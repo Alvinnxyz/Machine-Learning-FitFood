{
  "cells": [
    {
      "cell_type": "code",
      "execution_count": 1,
      "id": "43f478f0",
      "metadata": {
        "id": "43f478f0"
      },
      "outputs": [],
      "source": [
        "import tensorflow as tf\n",
        "from tensorflow.keras.preprocessing.image import ImageDataGenerator\n",
        "from tensorflow.keras.models import Sequential, Model\n",
        "from tensorflow.keras.layers import Conv2D, MaxPooling2D, Flatten, Dense, Dropout, GlobalAveragePooling2D\n",
        "from tensorflow.keras.optimizers import Adam\n",
        "from tensorflow.keras.applications import InceptionV3"
      ]
    },
    {
      "cell_type": "code",
      "execution_count": 2,
      "id": "5334ce75",
      "metadata": {
        "id": "5334ce75"
      },
      "outputs": [],
      "source": [
        "import numpy as np\n",
        "import os"
      ]
    },
    {
      "cell_type": "code",
      "source": [
        "from google.colab import drive\n",
        "drive.mount('/content/drive')"
      ],
      "metadata": {
        "colab": {
          "base_uri": "https://localhost:8080/"
        },
        "id": "uRbRp6EUOXqw",
        "outputId": "2d1ea9de-f2f1-482f-f500-f45563e362df"
      },
      "id": "uRbRp6EUOXqw",
      "execution_count": 3,
      "outputs": [
        {
          "output_type": "stream",
          "name": "stdout",
          "text": [
            "Mounted at /content/drive\n"
          ]
        }
      ]
    },
    {
      "cell_type": "code",
      "execution_count": 6,
      "id": "ab7b01f9",
      "metadata": {
        "colab": {
          "base_uri": "https://localhost:8080/"
        },
        "id": "ab7b01f9",
        "outputId": "69c6db1b-02a6-4c5d-bc85-c032b171a25b"
      },
      "outputs": [
        {
          "output_type": "stream",
          "name": "stdout",
          "text": [
            "Found 10080 images belonging to 42 classes.\n",
            "Found 1260 images belonging to 42 classes.\n",
            "Found 1260 images belonging to 42 classes.\n"
          ]
        }
      ],
      "source": [
        "import os\n",
        "import zipfile\n",
        "\n",
        "# zip_ref = zipfile.ZipFile(\"/content/drive/MyDrive/ML-FitFood/Data.zip\", 'r')\n",
        "# zip_ref.extractall(\"Data/\")\n",
        "# zip_ref.close()\n",
        "\n",
        "train_data_dir = ('Data/Dataset/Train')\n",
        "test_data_dir = ('Data/Dataset/Test')\n",
        "valid_data_dir = ('Data/Dataset/Val')\n",
        "\n",
        "img_width, img_height = 224, 224\n",
        "batch_size = 32\n",
        "input_shape = (img_width, img_height, 3)\n",
        "\n",
        "train_datagen = ImageDataGenerator(rescale=1.0/255.0)\n",
        "test_datagen = ImageDataGenerator(rescale=1.0/255.0)\n",
        "valid_datagen = ImageDataGenerator(rescale=1.0/255.0)\n",
        "\n",
        "train_generator = train_datagen.flow_from_directory(\n",
        "    train_data_dir,\n",
        "    target_size=(img_width, img_height),\n",
        "    batch_size=batch_size,\n",
        "    class_mode='categorical',  # Use 'categorical' for multi-label classification\n",
        "    shuffle=True\n",
        ")\n",
        "\n",
        "test_generator = test_datagen.flow_from_directory(\n",
        "    test_data_dir,\n",
        "    target_size=(img_width, img_height),\n",
        "    batch_size=batch_size,\n",
        "    class_mode='categorical',\n",
        "    shuffle=False\n",
        ")\n",
        "\n",
        "valid_generator = valid_datagen.flow_from_directory(\n",
        "    valid_data_dir,\n",
        "    target_size=(img_width, img_height),\n",
        "    batch_size=batch_size,\n",
        "    class_mode='categorical'\n",
        ")\n"
      ]
    },
    {
      "cell_type": "code",
      "execution_count": null,
      "id": "74c1ff2a",
      "metadata": {
        "colab": {
          "base_uri": "https://localhost:8080/"
        },
        "id": "74c1ff2a",
        "outputId": "d073352c-cbb5-4081-91a0-563e8c3c8702"
      },
      "outputs": [
        {
          "name": "stdout",
          "output_type": "stream",
          "text": [
            "Epoch 1/10\n",
            "21/21 [==============================] - 8s 193ms/step - loss: 0.3566 - accuracy: 0.0905 - val_loss: 0.1801 - val_accuracy: 0.3063\n",
            "Epoch 2/10\n",
            "21/21 [==============================] - 2s 97ms/step - loss: 0.2360 - accuracy: 0.2090 - val_loss: 0.1532 - val_accuracy: 0.5250\n",
            "Epoch 3/10\n",
            "21/21 [==============================] - 2s 94ms/step - loss: 0.1968 - accuracy: 0.2980 - val_loss: 0.1363 - val_accuracy: 0.6062\n",
            "Epoch 4/10\n",
            "21/21 [==============================] - 2s 107ms/step - loss: 0.1695 - accuracy: 0.3729 - val_loss: 0.1297 - val_accuracy: 0.6313\n",
            "Epoch 5/10\n",
            "21/21 [==============================] - 2s 105ms/step - loss: 0.1474 - accuracy: 0.4727 - val_loss: 0.1093 - val_accuracy: 0.7125\n",
            "Epoch 6/10\n",
            "21/21 [==============================] - 2s 104ms/step - loss: 0.1359 - accuracy: 0.5429 - val_loss: 0.1107 - val_accuracy: 0.6875\n",
            "Epoch 7/10\n",
            "21/21 [==============================] - 2s 110ms/step - loss: 0.1358 - accuracy: 0.5507 - val_loss: 0.1147 - val_accuracy: 0.6875\n",
            "Epoch 8/10\n",
            "21/21 [==============================] - 2s 106ms/step - loss: 0.1244 - accuracy: 0.5647 - val_loss: 0.1113 - val_accuracy: 0.7063\n",
            "Epoch 9/10\n",
            "21/21 [==============================] - 2s 97ms/step - loss: 0.1162 - accuracy: 0.6115 - val_loss: 0.0952 - val_accuracy: 0.7563\n",
            "Epoch 10/10\n",
            "21/21 [==============================] - 2s 95ms/step - loss: 0.1111 - accuracy: 0.6427 - val_loss: 0.0957 - val_accuracy: 0.8062\n",
            "Epoch 1/100\n",
            "21/21 [==============================] - 13s 188ms/step - loss: 0.1791 - accuracy: 0.3666 - val_loss: 0.0971 - val_accuracy: 0.8000\n",
            "Epoch 2/100\n",
            "21/21 [==============================] - 3s 122ms/step - loss: 0.1681 - accuracy: 0.3931 - val_loss: 0.0972 - val_accuracy: 0.7750\n",
            "Epoch 3/100\n",
            "21/21 [==============================] - 2s 110ms/step - loss: 0.1554 - accuracy: 0.4587 - val_loss: 0.0972 - val_accuracy: 0.7812\n",
            "Epoch 4/100\n",
            "21/21 [==============================] - 3s 123ms/step - loss: 0.1441 - accuracy: 0.5117 - val_loss: 0.1026 - val_accuracy: 0.7688\n",
            "Epoch 5/100\n",
            "21/21 [==============================] - 3s 122ms/step - loss: 0.1400 - accuracy: 0.5398 - val_loss: 0.1007 - val_accuracy: 0.7375\n",
            "Epoch 6/100\n",
            "21/21 [==============================] - 2s 112ms/step - loss: 0.1307 - accuracy: 0.5757 - val_loss: 0.1023 - val_accuracy: 0.7625\n",
            "Epoch 7/100\n",
            "21/21 [==============================] - 2s 110ms/step - loss: 0.1250 - accuracy: 0.6162 - val_loss: 0.0988 - val_accuracy: 0.7625\n",
            "Epoch 8/100\n",
            "21/21 [==============================] - 2s 113ms/step - loss: 0.1197 - accuracy: 0.6537 - val_loss: 0.1000 - val_accuracy: 0.7563\n",
            "Epoch 9/100\n",
            "21/21 [==============================] - 3s 124ms/step - loss: 0.1142 - accuracy: 0.6739 - val_loss: 0.0988 - val_accuracy: 0.7500\n",
            "Epoch 10/100\n",
            "21/21 [==============================] - 3s 118ms/step - loss: 0.1100 - accuracy: 0.7098 - val_loss: 0.0989 - val_accuracy: 0.7500\n",
            "Epoch 11/100\n",
            "21/21 [==============================] - 2s 112ms/step - loss: 0.1049 - accuracy: 0.7036 - val_loss: 0.0975 - val_accuracy: 0.7750\n",
            "Epoch 12/100\n",
            "21/21 [==============================] - 2s 113ms/step - loss: 0.0999 - accuracy: 0.7317 - val_loss: 0.0956 - val_accuracy: 0.7812\n",
            "Epoch 13/100\n",
            "21/21 [==============================] - 2s 113ms/step - loss: 0.0947 - accuracy: 0.7738 - val_loss: 0.0943 - val_accuracy: 0.7688\n",
            "Epoch 14/100\n",
            "21/21 [==============================] - 3s 127ms/step - loss: 0.0945 - accuracy: 0.7691 - val_loss: 0.0948 - val_accuracy: 0.7563\n",
            "Epoch 15/100\n",
            "21/21 [==============================] - 3s 123ms/step - loss: 0.0886 - accuracy: 0.8222 - val_loss: 0.0955 - val_accuracy: 0.7563\n",
            "Epoch 16/100\n",
            "21/21 [==============================] - 2s 112ms/step - loss: 0.0853 - accuracy: 0.8159 - val_loss: 0.0896 - val_accuracy: 0.7812\n",
            "Epoch 17/100\n",
            "21/21 [==============================] - 2s 111ms/step - loss: 0.0835 - accuracy: 0.8206 - val_loss: 0.0913 - val_accuracy: 0.7750\n",
            "Epoch 18/100\n",
            "21/21 [==============================] - 3s 121ms/step - loss: 0.0803 - accuracy: 0.8487 - val_loss: 0.0929 - val_accuracy: 0.7563\n",
            "Epoch 19/100\n",
            "21/21 [==============================] - 3s 126ms/step - loss: 0.0842 - accuracy: 0.7972 - val_loss: 0.0902 - val_accuracy: 0.7688\n",
            "Epoch 20/100\n",
            "21/21 [==============================] - 2s 112ms/step - loss: 0.0788 - accuracy: 0.8456 - val_loss: 0.0878 - val_accuracy: 0.7812\n",
            "Epoch 21/100\n",
            "21/21 [==============================] - 3s 123ms/step - loss: 0.0755 - accuracy: 0.8378 - val_loss: 0.0870 - val_accuracy: 0.7875\n",
            "Epoch 22/100\n",
            "21/21 [==============================] - 3s 123ms/step - loss: 0.0720 - accuracy: 0.8736 - val_loss: 0.0847 - val_accuracy: 0.7750\n",
            "Epoch 23/100\n",
            "21/21 [==============================] - 3s 121ms/step - loss: 0.0712 - accuracy: 0.8768 - val_loss: 0.0885 - val_accuracy: 0.7625\n",
            "Epoch 24/100\n",
            "21/21 [==============================] - 2s 113ms/step - loss: 0.0687 - accuracy: 0.8690 - val_loss: 0.0808 - val_accuracy: 0.7937\n",
            "Epoch 25/100\n",
            "21/21 [==============================] - 2s 117ms/step - loss: 0.0649 - accuracy: 0.9167 - val_loss: 0.0836 - val_accuracy: 0.7750\n",
            "Epoch 26/100\n",
            "21/21 [==============================] - 3s 131ms/step - loss: 0.0666 - accuracy: 0.8768 - val_loss: 0.0829 - val_accuracy: 0.7875\n",
            "Epoch 27/100\n",
            "21/21 [==============================] - 3s 121ms/step - loss: 0.0667 - accuracy: 0.8861 - val_loss: 0.0811 - val_accuracy: 0.8000\n",
            "Epoch 28/100\n",
            "21/21 [==============================] - 3s 122ms/step - loss: 0.0636 - accuracy: 0.8908 - val_loss: 0.0808 - val_accuracy: 0.7937\n",
            "Epoch 29/100\n",
            "21/21 [==============================] - 3s 118ms/step - loss: 0.0618 - accuracy: 0.8970 - val_loss: 0.0822 - val_accuracy: 0.7875\n",
            "Epoch 30/100\n",
            "21/21 [==============================] - 3s 131ms/step - loss: 0.0601 - accuracy: 0.9251 - val_loss: 0.0776 - val_accuracy: 0.8000\n",
            "Epoch 31/100\n",
            "21/21 [==============================] - 2s 113ms/step - loss: 0.0552 - accuracy: 0.9251 - val_loss: 0.0803 - val_accuracy: 0.8062\n",
            "Epoch 32/100\n",
            "21/21 [==============================] - 3s 125ms/step - loss: 0.0533 - accuracy: 0.9256 - val_loss: 0.0749 - val_accuracy: 0.8125\n",
            "Epoch 33/100\n",
            "21/21 [==============================] - 3s 124ms/step - loss: 0.0558 - accuracy: 0.9220 - val_loss: 0.0799 - val_accuracy: 0.8062\n",
            "Epoch 34/100\n",
            "21/21 [==============================] - 3s 124ms/step - loss: 0.0542 - accuracy: 0.9267 - val_loss: 0.0783 - val_accuracy: 0.8188\n",
            "Epoch 35/100\n",
            "21/21 [==============================] - 2s 113ms/step - loss: 0.0517 - accuracy: 0.9282 - val_loss: 0.0758 - val_accuracy: 0.8125\n",
            "Epoch 36/100\n",
            "21/21 [==============================] - 3s 124ms/step - loss: 0.0532 - accuracy: 0.9204 - val_loss: 0.0734 - val_accuracy: 0.8438\n",
            "Epoch 37/100\n",
            "21/21 [==============================] - 3s 136ms/step - loss: 0.0526 - accuracy: 0.9298 - val_loss: 0.0752 - val_accuracy: 0.8313\n",
            "Epoch 38/100\n",
            "21/21 [==============================] - 3s 124ms/step - loss: 0.0504 - accuracy: 0.9345 - val_loss: 0.0753 - val_accuracy: 0.8375\n",
            "Epoch 39/100\n",
            "21/21 [==============================] - 2s 114ms/step - loss: 0.0492 - accuracy: 0.9532 - val_loss: 0.0766 - val_accuracy: 0.8375\n",
            "Epoch 40/100\n",
            "21/21 [==============================] - 3s 124ms/step - loss: 0.0456 - accuracy: 0.9548 - val_loss: 0.0704 - val_accuracy: 0.8375\n",
            "Epoch 41/100\n",
            "21/21 [==============================] - 3s 135ms/step - loss: 0.0486 - accuracy: 0.9392 - val_loss: 0.0749 - val_accuracy: 0.8313\n",
            "Epoch 42/100\n",
            "21/21 [==============================] - 3s 123ms/step - loss: 0.0501 - accuracy: 0.9298 - val_loss: 0.0729 - val_accuracy: 0.8313\n",
            "Epoch 43/100\n",
            "21/21 [==============================] - 2s 114ms/step - loss: 0.0479 - accuracy: 0.9376 - val_loss: 0.0717 - val_accuracy: 0.8500\n",
            "Epoch 44/100\n",
            "21/21 [==============================] - 2s 113ms/step - loss: 0.0453 - accuracy: 0.9360 - val_loss: 0.0704 - val_accuracy: 0.8438\n",
            "Epoch 45/100\n",
            "21/21 [==============================] - 3s 130ms/step - loss: 0.0448 - accuracy: 0.9454 - val_loss: 0.0720 - val_accuracy: 0.8500\n",
            "Epoch 46/100\n",
            "21/21 [==============================] - 3s 122ms/step - loss: 0.0434 - accuracy: 0.9516 - val_loss: 0.0694 - val_accuracy: 0.8500\n",
            "Epoch 47/100\n",
            "21/21 [==============================] - 3s 123ms/step - loss: 0.0455 - accuracy: 0.9360 - val_loss: 0.0711 - val_accuracy: 0.8438\n",
            "Epoch 48/100\n",
            "21/21 [==============================] - 3s 125ms/step - loss: 0.0445 - accuracy: 0.9470 - val_loss: 0.0649 - val_accuracy: 0.8625\n",
            "Epoch 49/100\n",
            "21/21 [==============================] - 3s 117ms/step - loss: 0.0430 - accuracy: 0.9392 - val_loss: 0.0677 - val_accuracy: 0.8562\n",
            "Epoch 50/100\n",
            "21/21 [==============================] - 2s 111ms/step - loss: 0.0428 - accuracy: 0.9548 - val_loss: 0.0685 - val_accuracy: 0.8438\n",
            "Epoch 51/100\n",
            "21/21 [==============================] - 2s 111ms/step - loss: 0.0416 - accuracy: 0.9407 - val_loss: 0.0746 - val_accuracy: 0.8375\n",
            "Epoch 52/100\n",
            "21/21 [==============================] - 2s 111ms/step - loss: 0.0394 - accuracy: 0.9688 - val_loss: 0.0713 - val_accuracy: 0.8188\n",
            "Epoch 53/100\n",
            "21/21 [==============================] - 3s 125ms/step - loss: 0.0386 - accuracy: 0.9626 - val_loss: 0.0651 - val_accuracy: 0.8625\n",
            "Epoch 54/100\n",
            "21/21 [==============================] - 2s 115ms/step - loss: 0.0412 - accuracy: 0.9563 - val_loss: 0.0692 - val_accuracy: 0.8438\n",
            "Epoch 55/100\n",
            "21/21 [==============================] - 3s 128ms/step - loss: 0.0377 - accuracy: 0.9626 - val_loss: 0.0687 - val_accuracy: 0.8313\n",
            "Epoch 56/100\n",
            "21/21 [==============================] - 3s 138ms/step - loss: 0.0401 - accuracy: 0.9516 - val_loss: 0.0705 - val_accuracy: 0.8375\n",
            "Epoch 57/100\n",
            "21/21 [==============================] - 3s 123ms/step - loss: 0.0388 - accuracy: 0.9532 - val_loss: 0.0691 - val_accuracy: 0.8313\n",
            "Epoch 58/100\n",
            "21/21 [==============================] - 2s 111ms/step - loss: 0.0362 - accuracy: 0.9672 - val_loss: 0.0647 - val_accuracy: 0.8625\n",
            "Epoch 59/100\n",
            "21/21 [==============================] - 2s 112ms/step - loss: 0.0378 - accuracy: 0.9501 - val_loss: 0.0696 - val_accuracy: 0.8438\n",
            "Epoch 60/100\n",
            "21/21 [==============================] - 3s 131ms/step - loss: 0.0382 - accuracy: 0.9657 - val_loss: 0.0723 - val_accuracy: 0.8375\n",
            "Epoch 61/100\n",
            "21/21 [==============================] - 2s 112ms/step - loss: 0.0359 - accuracy: 0.9657 - val_loss: 0.0691 - val_accuracy: 0.8375\n",
            "Epoch 62/100\n",
            "21/21 [==============================] - 3s 124ms/step - loss: 0.0358 - accuracy: 0.9641 - val_loss: 0.0719 - val_accuracy: 0.8375\n",
            "Epoch 63/100\n",
            "21/21 [==============================] - 2s 112ms/step - loss: 0.0377 - accuracy: 0.9594 - val_loss: 0.0656 - val_accuracy: 0.8562\n",
            "Epoch 64/100\n",
            "21/21 [==============================] - 2s 112ms/step - loss: 0.0346 - accuracy: 0.9735 - val_loss: 0.0633 - val_accuracy: 0.8562\n",
            "Epoch 65/100\n",
            "21/21 [==============================] - 3s 134ms/step - loss: 0.0369 - accuracy: 0.9579 - val_loss: 0.0656 - val_accuracy: 0.8500\n",
            "Epoch 66/100\n",
            "21/21 [==============================] - 2s 112ms/step - loss: 0.0342 - accuracy: 0.9704 - val_loss: 0.0647 - val_accuracy: 0.8562\n",
            "Epoch 67/100\n",
            "21/21 [==============================] - 2s 113ms/step - loss: 0.0338 - accuracy: 0.9688 - val_loss: 0.0641 - val_accuracy: 0.8562\n",
            "Epoch 68/100\n",
            "21/21 [==============================] - 2s 111ms/step - loss: 0.0346 - accuracy: 0.9579 - val_loss: 0.0689 - val_accuracy: 0.8375\n",
            "Epoch 69/100\n",
            "21/21 [==============================] - 2s 112ms/step - loss: 0.0304 - accuracy: 0.9766 - val_loss: 0.0664 - val_accuracy: 0.8438\n",
            "Epoch 70/100\n",
            "21/21 [==============================] - 3s 128ms/step - loss: 0.0329 - accuracy: 0.9688 - val_loss: 0.0635 - val_accuracy: 0.8687\n",
            "Epoch 71/100\n",
            "21/21 [==============================] - 2s 114ms/step - loss: 0.0313 - accuracy: 0.9797 - val_loss: 0.0706 - val_accuracy: 0.8250\n",
            "Epoch 72/100\n",
            "21/21 [==============================] - 2s 112ms/step - loss: 0.0350 - accuracy: 0.9626 - val_loss: 0.0666 - val_accuracy: 0.8500\n",
            "Epoch 73/100\n",
            "21/21 [==============================] - 2s 111ms/step - loss: 0.0307 - accuracy: 0.9797 - val_loss: 0.0635 - val_accuracy: 0.8687\n",
            "Epoch 74/100\n",
            "21/21 [==============================] - 3s 123ms/step - loss: 0.0320 - accuracy: 0.9626 - val_loss: 0.0625 - val_accuracy: 0.8625\n",
            "Epoch 75/100\n",
            "21/21 [==============================] - 3s 124ms/step - loss: 0.0326 - accuracy: 0.9797 - val_loss: 0.0689 - val_accuracy: 0.8438\n",
            "Epoch 76/100\n",
            "21/21 [==============================] - 2s 111ms/step - loss: 0.0326 - accuracy: 0.9657 - val_loss: 0.0680 - val_accuracy: 0.8562\n",
            "Epoch 77/100\n",
            "21/21 [==============================] - 2s 111ms/step - loss: 0.0328 - accuracy: 0.9782 - val_loss: 0.0643 - val_accuracy: 0.8562\n",
            "Epoch 78/100\n",
            "21/21 [==============================] - 3s 126ms/step - loss: 0.0325 - accuracy: 0.9782 - val_loss: 0.0687 - val_accuracy: 0.8375\n",
            "Epoch 79/100\n",
            "21/21 [==============================] - 2s 112ms/step - loss: 0.0314 - accuracy: 0.9813 - val_loss: 0.0616 - val_accuracy: 0.8500\n",
            "Epoch 80/100\n",
            "21/21 [==============================] - 2s 110ms/step - loss: 0.0327 - accuracy: 0.9719 - val_loss: 0.0702 - val_accuracy: 0.8438\n",
            "Epoch 81/100\n",
            "21/21 [==============================] - 3s 125ms/step - loss: 0.0310 - accuracy: 0.9702 - val_loss: 0.0610 - val_accuracy: 0.8625\n",
            "Epoch 82/100\n",
            "21/21 [==============================] - 3s 128ms/step - loss: 0.0302 - accuracy: 0.9704 - val_loss: 0.0647 - val_accuracy: 0.8562\n",
            "Epoch 83/100\n",
            "21/21 [==============================] - 2s 113ms/step - loss: 0.0308 - accuracy: 0.9641 - val_loss: 0.0651 - val_accuracy: 0.8438\n",
            "Epoch 84/100\n",
            "21/21 [==============================] - 3s 123ms/step - loss: 0.0293 - accuracy: 0.9657 - val_loss: 0.0671 - val_accuracy: 0.8375\n",
            "Epoch 85/100\n",
            "14/21 [===================>..........] - ETA: 0s - loss: 0.0302 - accuracy: 0.9754"
          ]
        }
      ],
      "source": [
        "from tensorflow.keras.applications import InceptionV3\n",
        "# Load the InceptionV3 model pre-trained on ImageNet\n",
        "base_model = InceptionV3(weights='imagenet', include_top=False, input_shape=input_shape)\n",
        "\n",
        "# Add custom layers on top of the base model\n",
        "x = base_model.output\n",
        "x = GlobalAveragePooling2D()(x)\n",
        "x = Dense(128, activation='relu')(x)\n",
        "x = Dropout(0.5)(x)\n",
        "predictions = Dense(train_generator.num_classes, activation='sigmoid')(x)\n",
        "\n",
        "# Create the final model\n",
        "model = Model(inputs=base_model.input, outputs=predictions)\n",
        "\n",
        "# Freeze the base model layers\n",
        "for layer in base_model.layers:\n",
        "    layer.trainable = False\n",
        "\n",
        "# Compile the model\n",
        "model.compile(optimizer=Adam(), loss='binary_crossentropy', metrics=['accuracy'])\n",
        "\n",
        "# Train the model\n",
        "history = model.fit(\n",
        "    train_generator,\n",
        "    steps_per_epoch=train_generator.samples // batch_size,\n",
        "    validation_data=valid_generator,\n",
        "    validation_steps=valid_generator.samples // batch_size,\n",
        "    epochs=10  # You can start with a small number of epochs and increase as needed\n",
        ")\n",
        "\n",
        "# Unfreeze some layers of the base model for fine-tuning\n",
        "for layer in base_model.layers[:249]:\n",
        "    layer.trainable = False\n",
        "for layer in base_model.layers[249:]:\n",
        "    layer.trainable = True\n",
        "\n",
        "# Recompile the model with a lower learning rate for fine-tuning\n",
        "model.compile(optimizer=Adam(learning_rate=1e-5), loss='binary_crossentropy', metrics=['accuracy'])\n",
        "\n",
        "# Continue training the model\n",
        "history_fine = model.fit(\n",
        "    train_generator,\n",
        "    steps_per_epoch=train_generator.samples // batch_size,\n",
        "    validation_data=valid_generator,\n",
        "    validation_steps=valid_generator.samples // batch_size,\n",
        "    epochs=100  # Additional epochs for fine-tuning\n",
        ")\n",
        "\n",
        "# Evaluate the model on the test data\n",
        "test_loss, test_accuracy = model.evaluate(test_generator, steps=test_generator.samples // batch_size)\n",
        "print(f\"Test accuracy: {test_accuracy:.2f}\")"
      ]
    },
    {
      "cell_type": "code",
      "source": [
        "# Define input shape\n",
        "img_width, img_height = 224, 224\n",
        "input_shape = (img_width, img_height, 3)  # Adjust this if your input shape is different\n",
        "\n",
        "# Define num_classes based on train_generator\n",
        "num_classes = train_generator.num_classes\n",
        "\n",
        "# Build the model\n",
        "model = Sequential()\n",
        "\n",
        "# Convolutional layers\n",
        "model.add(Conv2D(32, (3, 3), activation='relu', input_shape=input_shape))\n",
        "model.add(MaxPooling2D((2, 2)))\n",
        "model.add(Conv2D(64, (3, 3), activation='relu'))\n",
        "model.add(MaxPooling2D((2, 2)))\n",
        "model.add(Conv2D(128, (3, 3), activation='relu'))\n",
        "model.add(MaxPooling2D((2, 2)))\n",
        "\n",
        "# Flatten layer\n",
        "model.add(Flatten())\n",
        "\n",
        "# Dense layers\n",
        "model.add(Dense(128, activation='relu'))\n",
        "model.add(Dropout(0.5))  # Adding dropout for regularization\n",
        "model.add(Dense(64, activation='relu'))\n",
        "model.add(Dense(num_classes, activation='sigmoid'))  # Use 'sigmoid' for multi-label classification\n",
        "\n",
        "# Compile the model\n",
        "model.compile(optimizer='adam', loss='binary_crossentropy', metrics=['accuracy'])\n",
        "\n",
        "# Print model summary\n",
        "model.summary()\n"
      ],
      "metadata": {
        "colab": {
          "base_uri": "https://localhost:8080/"
        },
        "id": "Oj73qBtZQIVj",
        "outputId": "045f0071-6a5e-4f5f-ab76-94a1ba7d55f4"
      },
      "id": "Oj73qBtZQIVj",
      "execution_count": 7,
      "outputs": [
        {
          "output_type": "stream",
          "name": "stdout",
          "text": [
            "Model: \"sequential\"\n",
            "_________________________________________________________________\n",
            " Layer (type)                Output Shape              Param #   \n",
            "=================================================================\n",
            " conv2d (Conv2D)             (None, 222, 222, 32)      896       \n",
            "                                                                 \n",
            " max_pooling2d (MaxPooling2  (None, 111, 111, 32)      0         \n",
            " D)                                                              \n",
            "                                                                 \n",
            " conv2d_1 (Conv2D)           (None, 109, 109, 64)      18496     \n",
            "                                                                 \n",
            " max_pooling2d_1 (MaxPoolin  (None, 54, 54, 64)        0         \n",
            " g2D)                                                            \n",
            "                                                                 \n",
            " conv2d_2 (Conv2D)           (None, 52, 52, 128)       73856     \n",
            "                                                                 \n",
            " max_pooling2d_2 (MaxPoolin  (None, 26, 26, 128)       0         \n",
            " g2D)                                                            \n",
            "                                                                 \n",
            " flatten (Flatten)           (None, 86528)             0         \n",
            "                                                                 \n",
            " dense (Dense)               (None, 128)               11075712  \n",
            "                                                                 \n",
            " dropout (Dropout)           (None, 128)               0         \n",
            "                                                                 \n",
            " dense_1 (Dense)             (None, 64)                8256      \n",
            "                                                                 \n",
            " dense_2 (Dense)             (None, 42)                2730      \n",
            "                                                                 \n",
            "=================================================================\n",
            "Total params: 11179946 (42.65 MB)\n",
            "Trainable params: 11179946 (42.65 MB)\n",
            "Non-trainable params: 0 (0.00 Byte)\n",
            "_________________________________________________________________\n"
          ]
        }
      ]
    },
    {
      "cell_type": "code",
      "source": [
        "history = model.fit(\n",
        "    train_generator,\n",
        "    steps_per_epoch=train_generator.samples // batch_size,\n",
        "    validation_data=valid_generator,\n",
        "    validation_steps=valid_generator.samples // batch_size,\n",
        "    epochs=50\n",
        ")\n",
        "\n",
        "test_loss, test_accuracy = model.evaluate(test_generator, steps=test_generator.samples // batch_size)\n",
        "print(f\"Test accuracy: {test_accuracy:.2f}\")\n"
      ],
      "metadata": {
        "colab": {
          "base_uri": "https://localhost:8080/"
        },
        "id": "VPIU5O6NQLvT",
        "outputId": "c94a1758-aab1-4b36-a6ac-d556c160a4dc"
      },
      "id": "VPIU5O6NQLvT",
      "execution_count": 8,
      "outputs": [
        {
          "output_type": "stream",
          "name": "stdout",
          "text": [
            "Epoch 1/50\n",
            " 61/315 [====>.........................] - ETA: 1:23 - loss: 0.2271 - accuracy: 0.0292"
          ]
        },
        {
          "output_type": "stream",
          "name": "stderr",
          "text": [
            "/usr/local/lib/python3.10/dist-packages/PIL/Image.py:996: UserWarning: Palette images with Transparency expressed in bytes should be converted to RGBA images\n",
            "  warnings.warn(\n"
          ]
        },
        {
          "output_type": "stream",
          "name": "stdout",
          "text": [
            "315/315 [==============================] - 131s 386ms/step - loss: 0.1431 - accuracy: 0.0309 - val_loss: 0.1101 - val_accuracy: 0.0673\n",
            "Epoch 2/50\n",
            "315/315 [==============================] - 112s 357ms/step - loss: 0.1141 - accuracy: 0.0616 - val_loss: 0.0999 - val_accuracy: 0.0994\n",
            "Epoch 3/50\n",
            "315/315 [==============================] - 116s 367ms/step - loss: 0.1047 - accuracy: 0.1064 - val_loss: 0.0912 - val_accuracy: 0.1715\n",
            "Epoch 4/50\n",
            "315/315 [==============================] - 113s 357ms/step - loss: 0.0987 - accuracy: 0.1417 - val_loss: 0.0884 - val_accuracy: 0.2019\n",
            "Epoch 5/50\n",
            "315/315 [==============================] - 114s 361ms/step - loss: 0.0943 - accuracy: 0.1718 - val_loss: 0.0860 - val_accuracy: 0.2171\n",
            "Epoch 6/50\n",
            "315/315 [==============================] - 114s 362ms/step - loss: 0.0901 - accuracy: 0.2102 - val_loss: 0.0834 - val_accuracy: 0.2821\n",
            "Epoch 7/50\n",
            "315/315 [==============================] - 123s 389ms/step - loss: 0.0851 - accuracy: 0.2520 - val_loss: 0.0811 - val_accuracy: 0.3029\n",
            "Epoch 8/50\n",
            "315/315 [==============================] - 124s 393ms/step - loss: 0.0789 - accuracy: 0.3069 - val_loss: 0.0779 - val_accuracy: 0.3245\n",
            "Epoch 9/50\n",
            "315/315 [==============================] - 122s 387ms/step - loss: 0.0730 - accuracy: 0.3594 - val_loss: 0.0760 - val_accuracy: 0.3413\n",
            "Epoch 10/50\n",
            "315/315 [==============================] - 113s 360ms/step - loss: 0.0665 - accuracy: 0.4193 - val_loss: 0.0756 - val_accuracy: 0.3622\n",
            "Epoch 11/50\n",
            "315/315 [==============================] - 123s 389ms/step - loss: 0.0592 - accuracy: 0.4876 - val_loss: 0.0750 - val_accuracy: 0.3462\n",
            "Epoch 12/50\n",
            "315/315 [==============================] - 112s 355ms/step - loss: 0.0526 - accuracy: 0.5660 - val_loss: 0.0774 - val_accuracy: 0.3662\n",
            "Epoch 13/50\n",
            "315/315 [==============================] - 112s 355ms/step - loss: 0.0474 - accuracy: 0.6097 - val_loss: 0.0774 - val_accuracy: 0.3550\n",
            "Epoch 14/50\n",
            "315/315 [==============================] - 122s 386ms/step - loss: 0.0433 - accuracy: 0.6452 - val_loss: 0.0773 - val_accuracy: 0.3694\n",
            "Epoch 15/50\n",
            "315/315 [==============================] - 113s 357ms/step - loss: 0.0395 - accuracy: 0.6851 - val_loss: 0.0801 - val_accuracy: 0.3726\n",
            "Epoch 16/50\n",
            "315/315 [==============================] - 123s 390ms/step - loss: 0.0364 - accuracy: 0.7079 - val_loss: 0.0843 - val_accuracy: 0.3630\n",
            "Epoch 17/50\n",
            "315/315 [==============================] - 113s 359ms/step - loss: 0.0342 - accuracy: 0.7299 - val_loss: 0.0895 - val_accuracy: 0.3478\n",
            "Epoch 18/50\n",
            "315/315 [==============================] - 122s 389ms/step - loss: 0.0326 - accuracy: 0.7407 - val_loss: 0.0887 - val_accuracy: 0.3542\n",
            "Epoch 19/50\n",
            "315/315 [==============================] - 122s 388ms/step - loss: 0.0311 - accuracy: 0.7546 - val_loss: 0.0872 - val_accuracy: 0.3397\n",
            "Epoch 20/50\n",
            "315/315 [==============================] - 112s 356ms/step - loss: 0.0296 - accuracy: 0.7740 - val_loss: 0.0932 - val_accuracy: 0.3582\n",
            "Epoch 21/50\n",
            "315/315 [==============================] - 111s 353ms/step - loss: 0.0282 - accuracy: 0.7831 - val_loss: 0.0934 - val_accuracy: 0.3486\n",
            "Epoch 22/50\n",
            "315/315 [==============================] - 112s 357ms/step - loss: 0.0268 - accuracy: 0.7913 - val_loss: 0.0969 - val_accuracy: 0.3518\n",
            "Epoch 23/50\n",
            "315/315 [==============================] - 123s 390ms/step - loss: 0.0260 - accuracy: 0.7974 - val_loss: 0.0962 - val_accuracy: 0.3421\n",
            "Epoch 24/50\n",
            "315/315 [==============================] - 113s 357ms/step - loss: 0.0251 - accuracy: 0.8116 - val_loss: 0.1093 - val_accuracy: 0.3470\n",
            "Epoch 25/50\n",
            "315/315 [==============================] - 113s 358ms/step - loss: 0.0244 - accuracy: 0.8157 - val_loss: 0.0988 - val_accuracy: 0.3470\n",
            "Epoch 26/50\n",
            "315/315 [==============================] - 111s 354ms/step - loss: 0.0238 - accuracy: 0.8202 - val_loss: 0.1004 - val_accuracy: 0.3454\n",
            "Epoch 27/50\n",
            "315/315 [==============================] - 123s 391ms/step - loss: 0.0239 - accuracy: 0.8196 - val_loss: 0.1066 - val_accuracy: 0.3237\n",
            "Epoch 28/50\n",
            "315/315 [==============================] - 111s 352ms/step - loss: 0.0233 - accuracy: 0.8233 - val_loss: 0.1096 - val_accuracy: 0.3446\n",
            "Epoch 29/50\n",
            "315/315 [==============================] - 113s 358ms/step - loss: 0.0222 - accuracy: 0.8295 - val_loss: 0.1092 - val_accuracy: 0.3438\n",
            "Epoch 30/50\n",
            "315/315 [==============================] - 113s 360ms/step - loss: 0.0218 - accuracy: 0.8340 - val_loss: 0.1099 - val_accuracy: 0.3325\n",
            "Epoch 31/50\n",
            "315/315 [==============================] - 113s 360ms/step - loss: 0.0215 - accuracy: 0.8369 - val_loss: 0.1061 - val_accuracy: 0.3526\n",
            "Epoch 32/50\n",
            "315/315 [==============================] - 113s 360ms/step - loss: 0.0216 - accuracy: 0.8352 - val_loss: 0.1127 - val_accuracy: 0.3470\n",
            "Epoch 33/50\n",
            "315/315 [==============================] - 116s 368ms/step - loss: 0.0207 - accuracy: 0.8432 - val_loss: 0.1126 - val_accuracy: 0.3518\n",
            "Epoch 34/50\n",
            "315/315 [==============================] - 113s 359ms/step - loss: 0.0210 - accuracy: 0.8422 - val_loss: 0.1101 - val_accuracy: 0.3702\n",
            "Epoch 35/50\n",
            "315/315 [==============================] - 124s 393ms/step - loss: 0.0206 - accuracy: 0.8424 - val_loss: 0.1149 - val_accuracy: 0.3678\n",
            "Epoch 36/50\n",
            "315/315 [==============================] - 123s 391ms/step - loss: 0.0202 - accuracy: 0.8486 - val_loss: 0.1171 - val_accuracy: 0.3349\n",
            "Epoch 37/50\n",
            "315/315 [==============================] - 110s 348ms/step - loss: 0.0196 - accuracy: 0.8544 - val_loss: 0.1209 - val_accuracy: 0.3470\n",
            "Epoch 38/50\n",
            "315/315 [==============================] - 112s 355ms/step - loss: 0.0196 - accuracy: 0.8508 - val_loss: 0.1113 - val_accuracy: 0.3558\n",
            "Epoch 39/50\n",
            "315/315 [==============================] - 123s 390ms/step - loss: 0.0198 - accuracy: 0.8471 - val_loss: 0.1114 - val_accuracy: 0.3381\n",
            "Epoch 40/50\n",
            "315/315 [==============================] - 127s 402ms/step - loss: 0.0189 - accuracy: 0.8601 - val_loss: 0.1103 - val_accuracy: 0.3405\n",
            "Epoch 41/50\n",
            "315/315 [==============================] - 118s 376ms/step - loss: 0.0194 - accuracy: 0.8529 - val_loss: 0.1194 - val_accuracy: 0.3365\n",
            "Epoch 42/50\n",
            "315/315 [==============================] - 123s 389ms/step - loss: 0.0186 - accuracy: 0.8571 - val_loss: 0.1216 - val_accuracy: 0.3446\n",
            "Epoch 43/50\n",
            "315/315 [==============================] - 115s 366ms/step - loss: 0.0181 - accuracy: 0.8629 - val_loss: 0.1222 - val_accuracy: 0.3365\n",
            "Epoch 44/50\n",
            "315/315 [==============================] - 127s 402ms/step - loss: 0.0178 - accuracy: 0.8699 - val_loss: 0.1226 - val_accuracy: 0.3349\n",
            "Epoch 45/50\n",
            "315/315 [==============================] - 124s 395ms/step - loss: 0.0177 - accuracy: 0.8635 - val_loss: 0.1178 - val_accuracy: 0.3269\n",
            "Epoch 46/50\n",
            "315/315 [==============================] - 127s 403ms/step - loss: 0.0181 - accuracy: 0.8658 - val_loss: 0.1163 - val_accuracy: 0.3542\n",
            "Epoch 47/50\n",
            "315/315 [==============================] - 123s 392ms/step - loss: 0.0176 - accuracy: 0.8706 - val_loss: 0.1181 - val_accuracy: 0.3478\n",
            "Epoch 48/50\n",
            "315/315 [==============================] - 114s 362ms/step - loss: 0.0169 - accuracy: 0.8748 - val_loss: 0.1217 - val_accuracy: 0.3438\n",
            "Epoch 49/50\n",
            "315/315 [==============================] - 117s 369ms/step - loss: 0.0171 - accuracy: 0.8692 - val_loss: 0.1177 - val_accuracy: 0.3373\n",
            "Epoch 50/50\n",
            "315/315 [==============================] - 114s 363ms/step - loss: 0.0168 - accuracy: 0.8731 - val_loss: 0.1207 - val_accuracy: 0.3309\n",
            "39/39 [==============================] - 12s 322ms/step - loss: 0.1194 - accuracy: 0.3405\n",
            "Test accuracy: 0.34\n"
          ]
        }
      ]
    },
    {
      "cell_type": "code",
      "execution_count": null,
      "id": "3b2cfc02",
      "metadata": {
        "id": "3b2cfc02"
      },
      "outputs": [],
      "source": [
        "# model = Sequential([\n",
        "#     Conv2D(32, (3, 3), activation='relu', input_shape=input_shape),\n",
        "#     MaxPooling2D((2, 2)),\n",
        "#     Conv2D(64, (3, 3), activation='relu'),\n",
        "#     MaxPooling2D((2, 2)),\n",
        "#     Conv2D(128, (3, 3), activation='relu'),\n",
        "#     MaxPooling2D((2, 2)),\n",
        "#     Flatten(),\n",
        "#     Dense(128, activation='relu'),\n",
        "#     Dropout(0.5),\n",
        "#     Dense(train_generator.num_classes, activation='sigmoid')  # Use sigmoid for multi-label classification\n",
        "# ])\n",
        "\n",
        "# model.compile(optimizer=Adam(), loss='binary_crossentropy', metrics=['accuracy'])\n"
      ]
    },
    {
      "cell_type": "code",
      "source": [
        "model_path = '/content/drive/My Drive/model.h5'\n",
        "model.save(model_path)"
      ],
      "metadata": {
        "colab": {
          "base_uri": "https://localhost:8080/"
        },
        "id": "aEIvSLesQKyo",
        "outputId": "5d5cd100-5a26-4cc1-d13d-b36c9b2b5691"
      },
      "id": "aEIvSLesQKyo",
      "execution_count": 9,
      "outputs": [
        {
          "output_type": "stream",
          "name": "stderr",
          "text": [
            "/usr/local/lib/python3.10/dist-packages/keras/src/engine/training.py:3103: UserWarning: You are saving your model as an HDF5 file via `model.save()`. This file format is considered legacy. We recommend using instead the native Keras format, e.g. `model.save('my_model.keras')`.\n",
            "  saving_api.save_model(\n"
          ]
        }
      ]
    },
    {
      "cell_type": "code",
      "execution_count": null,
      "id": "a829c94d",
      "metadata": {
        "id": "a829c94d"
      },
      "outputs": [],
      "source": []
    },
    {
      "cell_type": "code",
      "execution_count": 10,
      "id": "d83c0348",
      "metadata": {
        "id": "d83c0348"
      },
      "outputs": [],
      "source": [
        "# epochs = 100\n",
        "# model.fit(\n",
        "#     train_generator,\n",
        "#     steps_per_epoch=train_generator.samples // batch_size,\n",
        "#     epochs=epochs,\n",
        "#     validation_data=valid_generator,\n",
        "#     validation_steps=valid_generator.samples // batch_size\n",
        "# )\n",
        "\n",
        "# # Save the model\n",
        "model.save('multi_label_modelw2.h5')\n"
      ]
    },
    {
      "cell_type": "code",
      "execution_count": null,
      "id": "65ff323c",
      "metadata": {
        "id": "65ff323c"
      },
      "outputs": [],
      "source": [
        "test_loss, test_acc = model.evaluate(test_generator, steps=test_generator.samples // batch_size)\n",
        "print(f'Test Accuracy: {test_acc}, Test Loss: {test_loss}')\n"
      ]
    },
    {
      "cell_type": "code",
      "execution_count": 33,
      "id": "360059ca",
      "metadata": {
        "colab": {
          "base_uri": "https://localhost:8080/"
        },
        "id": "360059ca",
        "outputId": "44469227-d25b-437d-db52-2e2b57e0f8d3"
      },
      "outputs": [
        {
          "output_type": "stream",
          "name": "stdout",
          "text": [
            "1/1 [==============================] - 0s 77ms/step\n",
            "Predicted labels for the image: ['Ayam_Crispy', 'Nasi_Goreng']\n"
          ]
        }
      ],
      "source": [
        "# Load the model\n",
        "from tensorflow.keras.preprocessing.image import ImageDataGenerator, load_img, img_to_array\n",
        "from tensorflow.keras.models import Sequential, load_model\n",
        "model = load_model('multi_label_modelw2.h5')\n",
        "\n",
        "# Function to preprocess new image\n",
        "def preprocess_image(img_path, target_size):\n",
        "    img = load_img(img_path, target_size=target_size)\n",
        "    img_array = img_to_array(img)\n",
        "    img_array = np.expand_dims(img_array, axis=0)\n",
        "    img_array /= 255.0\n",
        "    return img_array\n",
        "\n",
        "# img_path = 'naskunxsate.jpg'\n",
        "img_path = 'nasxayam.jpg'\n",
        "# img_path = 'ayamxtest.jpg'\n",
        "# img_path = 'rawonxtest.jpg'\n",
        "processed_image = preprocess_image(img_path, target_size=(224, 224))\n",
        "predictions = model.predict(processed_image)\n",
        "threshold = 0.1\n",
        "predicted_labels = (predictions > threshold).astype(int)\n",
        "label_map = train_generator.class_indices\n",
        "label_map = dict((v,k) for k,v in label_map.items())\n",
        "predicted_classes = [label_map[i] for i in range(len(predicted_labels[0])) if predicted_labels[0][i] == 1]\n",
        "print(f'Predicted labels for the image: {predicted_classes}')\n"
      ]
    },
    {
      "cell_type": "code",
      "execution_count": 13,
      "id": "d5e21e6a",
      "metadata": {
        "id": "d5e21e6a"
      },
      "outputs": [],
      "source": [
        "\n",
        "converter = tf.lite.TFLiteConverter.from_keras_model(model)\n",
        "tflite_model = converter.convert()\n",
        "tflite_model_path = '/content/drive/My Drive/model.tflite'"
      ]
    },
    {
      "cell_type": "code",
      "source": [
        "from google.colab import files\n",
        "\n",
        "converter = tf.lite.TFLiteConverter.from_keras_model(model)\n",
        "tflite_model = converter.convert()\n"
      ],
      "metadata": {
        "id": "yqmP78REsQZ2"
      },
      "id": "yqmP78REsQZ2",
      "execution_count": 18,
      "outputs": []
    },
    {
      "cell_type": "code",
      "source": [
        "tflite_model_path = 'model.tflite'\n",
        "with open(tflite_model_path, 'wb') as f:\n",
        "    f.write(tflite_model)\n",
        "\n",
        "print(f\"Model TensorFlow Lite disimpan di: {tflite_model_path}\")\n",
        "files.download(tflite_model_path)"
      ],
      "metadata": {
        "colab": {
          "base_uri": "https://localhost:8080/",
          "height": 34
        },
        "id": "nUb1X0Wks9ex",
        "outputId": "0b6d4fff-693e-41d5-9f2e-e96e4b25cec1"
      },
      "id": "nUb1X0Wks9ex",
      "execution_count": 19,
      "outputs": [
        {
          "output_type": "stream",
          "name": "stdout",
          "text": [
            "Model TensorFlow Lite disimpan di: model.tflite\n"
          ]
        },
        {
          "output_type": "display_data",
          "data": {
            "text/plain": [
              "<IPython.core.display.Javascript object>"
            ],
            "application/javascript": [
              "\n",
              "    async function download(id, filename, size) {\n",
              "      if (!google.colab.kernel.accessAllowed) {\n",
              "        return;\n",
              "      }\n",
              "      const div = document.createElement('div');\n",
              "      const label = document.createElement('label');\n",
              "      label.textContent = `Downloading \"${filename}\": `;\n",
              "      div.appendChild(label);\n",
              "      const progress = document.createElement('progress');\n",
              "      progress.max = size;\n",
              "      div.appendChild(progress);\n",
              "      document.body.appendChild(div);\n",
              "\n",
              "      const buffers = [];\n",
              "      let downloaded = 0;\n",
              "\n",
              "      const channel = await google.colab.kernel.comms.open(id);\n",
              "      // Send a message to notify the kernel that we're ready.\n",
              "      channel.send({})\n",
              "\n",
              "      for await (const message of channel.messages) {\n",
              "        // Send a message to notify the kernel that we're ready.\n",
              "        channel.send({})\n",
              "        if (message.buffers) {\n",
              "          for (const buffer of message.buffers) {\n",
              "            buffers.push(buffer);\n",
              "            downloaded += buffer.byteLength;\n",
              "            progress.value = downloaded;\n",
              "          }\n",
              "        }\n",
              "      }\n",
              "      const blob = new Blob(buffers, {type: 'application/binary'});\n",
              "      const a = document.createElement('a');\n",
              "      a.href = window.URL.createObjectURL(blob);\n",
              "      a.download = filename;\n",
              "      div.appendChild(a);\n",
              "      a.click();\n",
              "      div.remove();\n",
              "    }\n",
              "  "
            ]
          },
          "metadata": {}
        },
        {
          "output_type": "display_data",
          "data": {
            "text/plain": [
              "<IPython.core.display.Javascript object>"
            ],
            "application/javascript": [
              "download(\"download_ac84002e-1478-413d-81aa-294c7c172dfc\", \"model.tflite\", 44724252)"
            ]
          },
          "metadata": {}
        }
      ]
    },
    {
      "cell_type": "code",
      "source": [],
      "metadata": {
        "id": "g203zi_uuSp1"
      },
      "id": "g203zi_uuSp1",
      "execution_count": null,
      "outputs": []
    }
  ],
  "metadata": {
    "accelerator": "GPU",
    "colab": {
      "gpuType": "T4",
      "provenance": []
    },
    "kernelspec": {
      "display_name": "Python 3",
      "name": "python3"
    },
    "language_info": {
      "codemirror_mode": {
        "name": "ipython",
        "version": 3
      },
      "file_extension": ".py",
      "mimetype": "text/x-python",
      "name": "python",
      "nbconvert_exporter": "python",
      "pygments_lexer": "ipython3",
      "version": "3.9.7"
    }
  },
  "nbformat": 4,
  "nbformat_minor": 5
}